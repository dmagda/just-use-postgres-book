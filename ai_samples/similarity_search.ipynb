{
 "cells": [
  {
   "cell_type": "markdown",
   "metadata": {},
   "source": [
    "# Similarity Search With Postgres and Ollama\n",
    "\n",
    "The notebook demonstrates how to perform similarity search using Postgres and an Ollama embedding model."
   ]
  },
  {
   "cell_type": "markdown",
   "metadata": {},
   "source": [
    "**0. Prerequsites**\n",
    "\n",
    "* Install python and pip\n",
    "* Start a Postgres container with pgvector and upload the movies dataset following the instructions from [chapter8.md](../chapter8.md)\n",
    "* Start an Ollama container and download required embedding and large language models follow the [ai_samples/README.md](README.md) instructions."
   ]
  },
  {
   "cell_type": "markdown",
   "metadata": {},
   "source": [
    "**1. Install Required Modules**"
   ]
  },
  {
   "cell_type": "code",
   "execution_count": null,
   "metadata": {},
   "outputs": [],
   "source": [
    "pip install -q psycopg2-binary==2.9.9 langchain-ollama==0.2.3"
   ]
  },
  {
   "cell_type": "markdown",
   "metadata": {},
   "source": [
    "**2. Initialize Ollama Embedding Model**"
   ]
  },
  {
   "cell_type": "code",
   "execution_count": 4,
   "metadata": {},
   "outputs": [],
   "source": [
    "from langchain_ollama import OllamaEmbeddings\n",
    "\n",
    "embedding_model = OllamaEmbeddings(model=\"mxbai-embed-large:335m\")"
   ]
  },
  {
   "cell_type": "markdown",
   "metadata": {},
   "source": [
    "**3. Connect to Postgres**"
   ]
  },
  {
   "cell_type": "code",
   "execution_count": 9,
   "metadata": {},
   "outputs": [],
   "source": [
    "import psycopg2\n",
    "\n",
    "db_params = {\n",
    "    \"host\": \"localhost\",\n",
    "    \"port\": 5432,\n",
    "    \"dbname\": \"postgres\",\n",
    "    \"user\": \"postgres\",\n",
    "    \"password\": \"password\"\n",
    "}\n",
    "\n",
    "conn = psycopg2.connect(**db_params)"
   ]
  },
  {
   "cell_type": "markdown",
   "metadata": {},
   "source": [
    "**4. Perform Similarity Search**"
   ]
  },
  {
   "cell_type": "code",
   "execution_count": null,
   "metadata": {},
   "outputs": [],
   "source": [
    "# Enter the search phrase\n",
    "phrase = \"A team of superheroes come together to save the world\"\n",
    "\n",
    "cursor = conn.cursor()\n",
    "\n",
    "# Generating embedding \n",
    "embedding = embedding_model.embed_query(phrase)\n",
    "\n",
    "# Execute the SQL query to find similar movies\n",
    "query = \"\"\"\n",
    "SELECT id, name, description, 1 - (movie_embedding <=> %s::vector) as similarity\n",
    "FROM omdb.movies\n",
    "WHERE 1 - (movie_embedding <=> %s::vector) > 0.3\n",
    "ORDER BY similarity DESC\n",
    "LIMIT 3\n",
    "\"\"\"\n",
    "\n",
    "cursor.execute(query, (embedding, embedding))\n",
    "result = cursor.fetchall()\n",
    "\n",
    "# Print the results\n",
    "print(f'Search result for phrase \"{phrase}\"')\n",
    "for row in result:\n",
    "    print(row)\n",
    "\n",
    "# Close the cursor and connection\n",
    "cursor.close()"
   ]
  },
  {
   "cell_type": "markdown",
   "metadata": {},
   "source": [
    "**5. Close Database Connection**"
   ]
  },
  {
   "cell_type": "code",
   "execution_count": 15,
   "metadata": {},
   "outputs": [],
   "source": [
    "conn.close()"
   ]
  }
 ],
 "metadata": {
  "kernelspec": {
   "display_name": "Python 3",
   "language": "python",
   "name": "python3"
  },
  "language_info": {
   "codemirror_mode": {
    "name": "ipython",
    "version": 3
   },
   "file_extension": ".py",
   "mimetype": "text/x-python",
   "name": "python",
   "nbconvert_exporter": "python",
   "pygments_lexer": "ipython3",
   "version": "3.9.6"
  }
 },
 "nbformat": 4,
 "nbformat_minor": 2
}
