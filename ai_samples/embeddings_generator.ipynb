{
 "cells": [
  {
   "cell_type": "markdown",
   "metadata": {},
   "source": [
    "# Embeddings Generator for OMDB Movies Dataset\n",
    "\n",
    "The generator uses Ollama to create embeddings for the movies dataset as well as for some phrases used in the similarity search."
   ]
  },
  {
   "cell_type": "markdown",
   "metadata": {},
   "source": [
    "**0. Prerequsites**\n",
    "\n",
    "* Install python and pip\n",
    "* Start a Postgres container with pgvector and upload the movies dataset following the instructions from [chapter8.md](../chapter8.md)\n",
    "* Start an Ollama container and download required embedding and large language models follow the [ai_samples/README.md](README.md) instructions."
   ]
  },
  {
   "cell_type": "markdown",
   "metadata": {},
   "source": [
    "**1. Install Required Modules**"
   ]
  },
  {
   "cell_type": "code",
   "execution_count": null,
   "metadata": {},
   "outputs": [],
   "source": [
    "pip install -q psycopg2-binary==2.9.9 langchain-ollama==0.2.3"
   ]
  },
  {
   "cell_type": "markdown",
   "metadata": {},
   "source": [
    "**2. Initialize Ollama Embedding Model**"
   ]
  },
  {
   "cell_type": "code",
   "execution_count": 44,
   "metadata": {},
   "outputs": [],
   "source": [
    "from langchain_ollama import OllamaEmbeddings\n",
    "\n",
    "embedding_model = OllamaEmbeddings(model=\"mxbai-embed-large:335m\")"
   ]
  },
  {
   "cell_type": "markdown",
   "metadata": {},
   "source": [
    "**3. Connect to Postgres**"
   ]
  },
  {
   "cell_type": "code",
   "execution_count": 47,
   "metadata": {},
   "outputs": [],
   "source": [
    "import psycopg2\n",
    "\n",
    "db_params = {\n",
    "    \"host\": \"localhost\",\n",
    "    \"port\": 5432,\n",
    "    \"dbname\": \"postgres\",\n",
    "    \"user\": \"postgres\",\n",
    "    \"password\": \"password\"\n",
    "}\n",
    "\n",
    "conn = psycopg2.connect(**db_params)"
   ]
  },
  {
   "cell_type": "markdown",
   "metadata": {},
   "source": [
    "**4. Generate Embeddings for Movies**"
   ]
  },
  {
   "cell_type": "code",
   "execution_count": null,
   "metadata": {},
   "outputs": [],
   "source": [
    "cursor = conn.cursor()\n",
    "\n",
    "# Reset the movie_embedding column to NULL\n",
    "cursor.execute(\"UPDATE omdb.movies SET movie_embedding = NULL\")\n",
    "conn.commit()\n",
    "\n",
    "# Fetch all movies from the database\n",
    "cursor.execute(\"SELECT id, name, description FROM omdb.movies\")\n",
    "movies = cursor.fetchall()\n",
    "\n",
    "counter = 0\n",
    "\n",
    "# Iterate over each movie and generate the embedding\n",
    "for movie in movies:\n",
    "    id, name, description = movie\n",
    "    combined_text = f\"{name} {description}\"\n",
    "    embedding = embedding_model.embed_query(combined_text)\n",
    "    \n",
    "    # Update the database with the generated embedding\n",
    "    cursor.execute(\n",
    "        \"UPDATE omdb.movies SET movie_embedding = %s WHERE id = %s\",\n",
    "        (embedding, id)\n",
    "    )\n",
    "\n",
    "    counter += 1\n",
    "    if counter % 100 == 0:\n",
    "        print(f\"Processed {counter} movies\")\n",
    "        conn.commit()    \n",
    "\n",
    "print(f\"Finished processing {counter} movies in total\")\n",
    "\n",
    "# Close the cursor and connection\n",
    "conn.commit()\n",
    "cursor.close()"
   ]
  },
  {
   "cell_type": "markdown",
   "metadata": {},
   "source": [
    "**5. Generate Embeddings for Phrases**"
   ]
  },
  {
   "cell_type": "code",
   "execution_count": 49,
   "metadata": {},
   "outputs": [],
   "source": [
    "cursor = conn.cursor()\n",
    "\n",
    "cursor.execute(\"TRUNCATE TABLE omdb.phrases_dictionary\")\n",
    "conn.commit()\n",
    "\n",
    "phrases = [\n",
    "    'May the force be with you',\n",
    "    'A movie about a Jedi who fights against the dark side of the force',\n",
    "    'A pirate captain who sails the seven seas in search of treasure',\n",
    "    'A clown fish who gets lost in the ocean and tries to find his way home'\n",
    "]\n",
    "\n",
    "for phrase in phrases:\n",
    "    embedding = embedding_model.embed_query(phrase)\n",
    "    cursor.execute(\n",
    "        \"INSERT INTO omdb.phrases_dictionary (phrase, phrase_embedding) VALUES (%s, %s)\",\n",
    "        (phrase, embedding)\n",
    "    )\n",
    "\n",
    "conn.commit()\n",
    "cursor.close()\n",
    "conn.close()\n"
   ]
  }
 ],
 "metadata": {
  "kernelspec": {
   "display_name": "Python 3",
   "language": "python",
   "name": "python3"
  },
  "language_info": {
   "codemirror_mode": {
    "name": "ipython",
    "version": 3
   },
   "file_extension": ".py",
   "mimetype": "text/x-python",
   "name": "python",
   "nbconvert_exporter": "python",
   "pygments_lexer": "ipython3",
   "version": "3.9.6"
  }
 },
 "nbformat": 4,
 "nbformat_minor": 2
}
